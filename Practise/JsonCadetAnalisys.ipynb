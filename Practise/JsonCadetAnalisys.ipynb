{
 "cells": [
  {
   "cell_type": "code",
   "execution_count": 62,
   "metadata": {
    "dotnet_interactive": {
     "language": "csharp"
    },
    "polyglot_notebook": {
     "kernelName": "csharp"
    }
   },
   "outputs": [],
   "source": [
    "using Newtonsoft.Json;\n",
    "using Newtonsoft.Json.Linq;\n",
    "using System.Linq;\n",
    "using System.IO;"
   ]
  },
  {
   "cell_type": "code",
   "execution_count": 63,
   "metadata": {},
   "outputs": [],
   "source": [
    "public class Mark\n",
    "{\n",
    "    public string name {get; set;}\n",
    "    public string group {get; set;}\n",
    "    public string discipline {get; set;}\n",
    "    public int mark {get; set;}\n",
    "\n",
    "    public void PrintInfo()\n",
    "    {\n",
    "        Console.WriteLine($\"{name}, {group}, {discipline}, {mark}\");\n",
    "    }\n",
    "}\n",
    "\n",
    "public class CadetGPA\n",
    "{\n",
    "    public string Cadet {get; set;}\n",
    "    public double GPA {get; set;}\n",
    "\n",
    "    public void PrintInfo()\n",
    "    {\n",
    "        Console.WriteLine($\"{Cadet}, {GPA}\");\n",
    "    }\n",
    "}"
   ]
  },
  {
   "cell_type": "markdown",
   "metadata": {},
   "source": [
    "Task 3.1 (Highest GPA)"
   ]
  },
  {
   "cell_type": "code",
   "execution_count": 68,
   "metadata": {},
   "outputs": [],
   "source": [
    "dynamic inputData = JsonConvert.DeserializeObject(File.ReadAllText(@\"GetStudentsWithHighestGPA.json\"));\n",
    "List<Mark> marks = JsonConvert.DeserializeObject<List<Mark>>(inputData.data.ToString());\n",
    "\n",
    "List<CadetGPA> cadetGPAs = marks.GroupBy(m => m.name)\n",
    "        .Select(g => new CadetGPA\n",
    "        {\n",
    "            Cadet = g.Key,\n",
    "            GPA = g.Average(c => c.mark)\n",
    "        })\n",
    "        .ToList();\n",
    "\n",
    "double maxGPA = cadetGPAs.Max(c => c.GPA);\n",
    "\n",
    "List<CadetGPA> highestCadetGPAs = cadetGPAs.Where(c => c.GPA == maxGPA).ToList();\n",
    "\n",
    "var outputData = new\n",
    "{\n",
    "    Response = highestCadetGPAs\n",
    "};\n",
    "\n",
    "File.WriteAllText(@\"GetStudentsWithHighestGPAOutPut.json\", JsonConvert.SerializeObject(outputData, Formatting.Indented));\n",
    "\n"
   ]
  },
  {
   "cell_type": "markdown",
   "metadata": {},
   "source": [
    "Task 3.2 (GPA by discipine)"
   ]
  },
  {
   "cell_type": "code",
   "execution_count": 65,
   "metadata": {},
   "outputs": [],
   "source": [
    "dynamic inputData = JsonConvert.DeserializeObject(File.ReadAllText(@\"CalculateGPAByDiscipline.json\"));\n",
    "List<Mark> marks = JsonConvert.DeserializeObject<List<Mark>>(inputData.data.ToString());\n",
    "\n",
    " var disciplineGPAs = marks.GroupBy(c => c.discipline).Select(g =>\n",
    "            new JObject(\n",
    "                new JProperty(g.Key, g.Average(c => c.mark))\n",
    "            )\n",
    "        ).ToList();\n",
    "\n",
    "\n",
    "var outputData = new\n",
    "{\n",
    "    Response = disciplineGPAs\n",
    "};\n",
    "\n",
    "File.WriteAllText(@\"CalculateGPAByDisciplineOutPut.json\", JsonConvert.SerializeObject(outputData, Formatting.Indented));\n"
   ]
  },
  {
   "cell_type": "markdown",
   "metadata": {},
   "source": [
    "Task 3.3 (GetBestGroupsByDiscipline)"
   ]
  },
  {
   "cell_type": "code",
   "execution_count": 66,
   "metadata": {},
   "outputs": [],
   "source": [
    "dynamic inputData = JsonConvert.DeserializeObject(File.ReadAllText(@\"GetBestGroupsByDiscipline.json\"));\n",
    "List<Mark> marks = JsonConvert.DeserializeObject<List<Mark>>(inputData.data.ToString());\n",
    "\n",
    "var groupGpas = marks.GroupBy(c => new { c.discipline, c.group })\n",
    "        .Select(g => new\n",
    "        {\n",
    "            discipline = g.Key.discipline,\n",
    "            group = g.Key.group,\n",
    "            GPA = g.Average(c => c.mark)\n",
    "        })\n",
    "        .ToList();\n",
    "\n",
    "var bestGroups = groupGpas.GroupBy(g => g.discipline)\n",
    "    .Select(d => d.OrderByDescending(g => g.GPA).First())\n",
    "    .ToList();\n",
    "\n",
    "var outputData = new\n",
    "{\n",
    "    Response = bestGroups\n",
    "};\n",
    "\n",
    "File.WriteAllText(@\"GetBestGroupsByDisciplineOutPut.json\", JsonConvert.SerializeObject(outputData, Formatting.Indented));"
   ]
  }
 ],
 "metadata": {
  "kernelspec": {
   "display_name": ".NET (C#)",
   "language": "C#",
   "name": ".net-csharp"
  },
  "language_info": {
   "name": "polyglot-notebook"
  },
  "polyglot_notebook": {
   "kernelInfo": {
    "defaultKernelName": "csharp",
    "items": [
     {
      "aliases": [],
      "languageName": "csharp",
      "name": "csharp"
     }
    ]
   }
  }
 },
 "nbformat": 4,
 "nbformat_minor": 2
}
