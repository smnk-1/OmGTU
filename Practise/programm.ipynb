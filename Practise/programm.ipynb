{
 "cells": [
  {
   "cell_type": "code",
   "execution_count": 22,
   "metadata": {
    "dotnet_interactive": {
     "language": "csharp"
    },
    "polyglot_notebook": {
     "kernelName": "csharp"
    }
   },
   "outputs": [],
   "source": [
    "using System.Reflection;"
   ]
  },
  {
   "cell_type": "code",
   "execution_count": 23,
   "metadata": {},
   "outputs": [],
   "source": [
    "Assembly assembly = Assembly.LoadFrom(\"core.dll\");\n",
    "Type[] types = assembly.GetTypes();\n"
   ]
  },
  {
   "cell_type": "code",
   "execution_count": null,
   "metadata": {},
   "outputs": [],
   "source": [
    "foreach(Type t in types)\n",
    "{\n",
    "    Console.WriteLine(t.Name);\n",
    "    foreach(MethodInfo m in t.GetMethods())\n",
    "    {\n",
    "        Console.WriteLine($\"\\t{m.Name} {m.ReturnType.Name}\");\n",
    "        foreach(ParameterInfo p in m.GetParameters())\n",
    "        {\n",
    "            Console.WriteLine($\"\\t\\t{p.Name} {p.ParameterType.Name}\");\n",
    "        }\n",
    "    }\n",
    "}"
   ]
  },
  {
   "cell_type": "code",
   "execution_count": 25,
   "metadata": {},
   "outputs": [
    {
     "name": "stdout",
     "output_type": "stream",
     "text": [
      "EmbeddedAttribute\n",
      "\tEquals Boolean\n",
      "\t\tobj Object\n",
      "\tGetHashCode Int32\n",
      "\tget_TypeId Object\n",
      "\tMatch Boolean\n",
      "\t\tobj Object\n",
      "\tIsDefaultAttribute Boolean\n",
      "\tGetType Type\n",
      "\tToString String\n",
      "NullableAttribute\n",
      "\tEquals Boolean\n",
      "\t\tobj Object\n",
      "\tGetHashCode Int32\n",
      "\tget_TypeId Object\n",
      "\tMatch Boolean\n",
      "\t\tobj Object\n",
      "\tIsDefaultAttribute Boolean\n",
      "\tGetType Type\n",
      "\tToString String\n",
      "NullableContextAttribute\n",
      "\tEquals Boolean\n",
      "\t\tobj Object\n",
      "\tGetHashCode Int32\n",
      "\tget_TypeId Object\n",
      "\tMatch Boolean\n",
      "\t\tobj Object\n",
      "\tIsDefaultAttribute Boolean\n",
      "\tGetType Type\n",
      "\tToString String\n",
      "ICommand\n",
      "\tExecute Void\n",
      "IoC\n",
      "\tResolve T\n",
      "\t\tdependency String\n",
      "\t\targs Object[]\n",
      "\tGetType Type\n",
      "\tToString String\n",
      "\tEquals Boolean\n",
      "\t\tobj Object\n",
      "\tGetHashCode Int32\n",
      "SetupCommand\n",
      "\tExecute Void\n",
      "\tGetType Type\n",
      "\tToString String\n",
      "\tEquals Boolean\n",
      "\t\tobj Object\n",
      "\tGetHashCode Int32\n",
      "<>c\n",
      "\tGetType Type\n",
      "\tToString String\n",
      "\tEquals Boolean\n",
      "\t\tobj Object\n",
      "\tGetHashCode Int32\n"
     ]
    }
   ],
   "source": [
    "assembly.GetTypes().ToList().ForEach(t =>\n",
    "{\n",
    "    Console.WriteLine(t.Name);\n",
    "    t.GetMethods().ToList().ForEach(m =>\n",
    "    {\n",
    "        Console.WriteLine($\"\\t{m.Name} {m.ReturnType.Name}\");\n",
    "        m.GetParameters().ToList().ForEach(p =>\n",
    "        {\n",
    "            Console.WriteLine($\"\\t\\t{p.Name} {p.ParameterType.Name}\");\n",
    "        });\n",
    "    });\n",
    "});"
   ]
  }
 ],
 "metadata": {
  "kernelspec": {
   "display_name": ".NET (C#)",
   "language": "C#",
   "name": ".net-csharp"
  },
  "polyglot_notebook": {
   "kernelInfo": {
    "defaultKernelName": "csharp",
    "items": [
     {
      "aliases": [],
      "languageName": "csharp",
      "name": "csharp"
     }
    ]
   }
  }
 },
 "nbformat": 4,
 "nbformat_minor": 2
}
